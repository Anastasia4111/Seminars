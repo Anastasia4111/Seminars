{
 "cells": [
  {
   "cell_type": "markdown",
   "metadata": {},
   "source": [
    "# Семинар 9  -  Функции и сортировка"
   ]
  },
  {
   "cell_type": "markdown",
   "metadata": {},
   "source": [
    "## Функции"
   ]
  },
  {
   "cell_type": "markdown",
   "metadata": {},
   "source": [
    "Вам уже знакомы некоторые **встроенные функции** - `print()`, `input()`, `list()`, `range()`, `map()`, `zip()`, и другие. \n",
    "Как мы знаем, функция (в том числе метод) может принимать на вход некоторые аргументы, по заданным инструкциям выполняет код при её вызове и возможно возвращает какие-то объекты. \n",
    "\n",
    "Сегодня мы научимся сами создавать свои функции!"
   ]
  },
  {
   "cell_type": "markdown",
   "metadata": {},
   "source": [
    "Функции помогают разбить наш код программы на более мелкие и модульные \"блоки\". По мере того как наш код становится все больше и больше, функции делают его более организованным, компактным и управляемым.\n",
    "\n",
    "Кроме того, это позволяет избежать повторения и делает код **многоразовым**."
   ]
  },
  {
   "cell_type": "markdown",
   "metadata": {},
   "source": [
    "Конструкция создания функции:\n",
    "\n",
    "    def funcname(arguments): <------ аргументы необязательны \n",
    "        ''' описание функции ''' <-- можно добавить документацию (например, если функция сложная)\n",
    "        БЛОК КОДА\n",
    "        return something <---------- функция может вернуть какой-то объект (если необходимо)"
   ]
  },
  {
   "cell_type": "markdown",
   "metadata": {},
   "source": [
    "Функция всегда возвращает какое-то значение, просто когда она возвращает `None` мы говорим, что она возвращает \"ничего\". \n",
    "Это происходит если команда `return` совсем не пишется в инструкции или если она написана без сопутствующего возвращаемого значения."
   ]
  },
  {
   "cell_type": "code",
   "execution_count": null,
   "metadata": {},
   "outputs": [],
   "source": [
    "def hi():\n",
    "    print('Hello!')"
   ]
  },
  {
   "cell_type": "code",
   "execution_count": null,
   "metadata": {},
   "outputs": [],
   "source": [
    "hi()"
   ]
  },
  {
   "cell_type": "markdown",
   "metadata": {},
   "source": [
    "Создадим функцию для взятия корня произвольной степени заданного числа (по умолчанию корень второй степени)"
   ]
  },
  {
   "cell_type": "code",
   "execution_count": null,
   "metadata": {},
   "outputs": [],
   "source": [
    "def sqrt(n, b=2):\n",
    "    return n ** (1 / b)"
   ]
  },
  {
   "cell_type": "code",
   "execution_count": null,
   "metadata": {},
   "outputs": [],
   "source": [
    "sqrt(2), sqrt(2, 3)"
   ]
  },
  {
   "cell_type": "markdown",
   "metadata": {},
   "source": [
    "**Задание**: Создайте свою функцию, в которой будет вычисляться сумма и произведение введенных чисел и выводятся оба параметра"
   ]
  },
  {
   "cell_type": "code",
   "execution_count": null,
   "metadata": {},
   "outputs": [],
   "source": []
  },
  {
   "cell_type": "markdown",
   "metadata": {},
   "source": [
    "**Задача 1**: Создайте функцию, которая прибавляет y к x до тех пор, пока x меньше 100, но не более 10 раз, и возвращает значение x на момент остановки."
   ]
  },
  {
   "cell_type": "code",
   "execution_count": null,
   "metadata": {},
   "outputs": [],
   "source": []
  },
  {
   "cell_type": "code",
   "execution_count": null,
   "metadata": {},
   "outputs": [],
   "source": []
  },
  {
   "cell_type": "markdown",
   "metadata": {},
   "source": [
    "**Задача 2**: Функция должна проверить является ли аргумент четным числом, напечатать результат проверки и вернуть остаток от деления на 2"
   ]
  },
  {
   "cell_type": "code",
   "execution_count": null,
   "metadata": {},
   "outputs": [],
   "source": []
  },
  {
   "cell_type": "code",
   "execution_count": null,
   "metadata": {},
   "outputs": [],
   "source": []
  },
  {
   "cell_type": "markdown",
   "metadata": {},
   "source": [
    "**Задача 3**: Дана матрица А некоторой размерности, содержащая только 0 и 1. Напишите функцию, которая , начиная с первого элемента первой строки, проверяет его значение, и , если оно равно 0, то на следующем шаге функция проверяет элемент справа в этой же строке, а, если значение равно 1, то проверяет элемент снизу в этом же столбце. \n",
    "Функция останавливается, когда достигнута граница матрицы справа или снизу, и возвращает tuple с номерами строки и столбца на момент остановки."
   ]
  },
  {
   "cell_type": "code",
   "execution_count": null,
   "metadata": {},
   "outputs": [],
   "source": []
  },
  {
   "cell_type": "markdown",
   "metadata": {},
   "source": [
    "### Лямбда-функции  \n",
    "\n",
    "Краткость - сестра таланта. \n",
    "Поэтому функции, если это необходимо, можно задавать **в одну строку**. \n",
    "Есть некоторые внутренние различия между созданием функции с помощью `def` и `lambda`, но мы не станем в это вдаваться подробно. "
   ]
  },
  {
   "cell_type": "markdown",
   "metadata": {},
   "source": [
    "Синтаксис лямбда-выражения такой:\n",
    "\n",
    "    lambda arg1, arg2, ..., argn : code(args)\n",
    "\n",
    "Такое выражение уже можно использовать как функцию, например:"
   ]
  },
  {
   "cell_type": "code",
   "execution_count": null,
   "metadata": {},
   "outputs": [],
   "source": [
    "(lambda x: x**2)(3)"
   ]
  },
  {
   "cell_type": "markdown",
   "metadata": {},
   "source": [
    "Мы уже встречали подобный способ записи функции в семинаре по таблицам (когда разбивали год формата 2016-2017 на 2 отдельных подстроки)\n",
    "\n",
    "**Задание** Давайте вспомним и запишем функцию, разбивающую строку на 2 части по знаку - (дефис) и выводящую первый элемент"
   ]
  },
  {
   "cell_type": "code",
   "execution_count": null,
   "metadata": {},
   "outputs": [],
   "source": [
    "# Решение\n",
    "\n",
    "(lambda x: x.split('-')[1])('2016-2017')"
   ]
  },
  {
   "cell_type": "markdown",
   "metadata": {},
   "source": [
    "## Сортировка"
   ]
  },
  {
   "cell_type": "markdown",
   "metadata": {},
   "source": [
    "Наглядная визуализация разных способов сортировки:\n",
    "https://www.cs.usfca.edu/~galles/visualization/ComparisonSort.html"
   ]
  },
  {
   "cell_type": "markdown",
   "metadata": {},
   "source": [
    "Сортировка с помощью **sorted**"
   ]
  },
  {
   "cell_type": "code",
   "execution_count": null,
   "metadata": {},
   "outputs": [],
   "source": [
    "marks = [5, 4, 8, 9, 10]"
   ]
  },
  {
   "cell_type": "code",
   "execution_count": null,
   "metadata": {},
   "outputs": [],
   "source": [
    "# Сортировка значений по возрастанию\n",
    "sorted(marks)"
   ]
  },
  {
   "cell_type": "code",
   "execution_count": null,
   "metadata": {},
   "outputs": [],
   "source": [
    "# Сортировка значений по убыванию\n",
    "sorted(marks, reverse = True)"
   ]
  },
  {
   "cell_type": "code",
   "execution_count": null,
   "metadata": {},
   "outputs": [],
   "source": [
    "words = ['bee', 'apple', 'cat']"
   ]
  },
  {
   "cell_type": "code",
   "execution_count": null,
   "metadata": {},
   "outputs": [],
   "source": [
    "# Сортировка слов по алфавиту\n",
    "sorted(words)"
   ]
  },
  {
   "cell_type": "code",
   "execution_count": null,
   "metadata": {},
   "outputs": [],
   "source": [
    "sorted(words, reverse = True)"
   ]
  },
  {
   "cell_type": "markdown",
   "metadata": {},
   "source": [
    "Параметр **key** при сортировке"
   ]
  },
  {
   "cell_type": "code",
   "execution_count": null,
   "metadata": {},
   "outputs": [],
   "source": [
    "spisok = [1, 12, -10, 5, 3, -1]\n",
    "poryadok = lambda x: -x\n",
    "\n",
    "# poryadok(spisok) : -1 -12 10 -5 -3 1 => -12 -5 -3 -1 1 10 => 12 5 3 1 -1 -10\n",
    "sorted(spisok, key = poryadok) "
   ]
  },
  {
   "cell_type": "markdown",
   "metadata": {},
   "source": [
    "**Задание** Дан вектор котировок акции в течение 5 дней. \n",
    "Написать функцию для рассчета доходности.\n",
    "\n",
    "Формула (R - доходность, P - цена):\n",
    "$$ R_{t,t+1} = \\frac{P_{t+1}-P_{t}}{P_{t}} $$"
   ]
  },
  {
   "cell_type": "code",
   "execution_count": null,
   "metadata": {},
   "outputs": [],
   "source": [
    "import numpy as np"
   ]
  },
  {
   "cell_type": "code",
   "execution_count": null,
   "metadata": {},
   "outputs": [],
   "source": [
    "prices = np.array([8.60, 8.75, 9.23, 10.50, 8.72])"
   ]
  },
  {
   "cell_type": "code",
   "execution_count": null,
   "metadata": {},
   "outputs": [],
   "source": []
  },
  {
   "cell_type": "code",
   "execution_count": null,
   "metadata": {},
   "outputs": [],
   "source": []
  },
  {
   "cell_type": "markdown",
   "metadata": {},
   "source": [
    "**Задача** Напишите функцию, которая будет считать и выводить количество слов в переданном тексте"
   ]
  },
  {
   "cell_type": "code",
   "execution_count": null,
   "metadata": {},
   "outputs": [],
   "source": []
  },
  {
   "cell_type": "code",
   "execution_count": null,
   "metadata": {},
   "outputs": [],
   "source": [
    "words('У лукоморья дуб зелёный; Златая цепь на дубе том:')"
   ]
  },
  {
   "cell_type": "markdown",
   "metadata": {},
   "source": [
    "**Задача** Напишите функцию, которая будет переводить температуру из шкалы Цельсия в шкалу Фаренгейта"
   ]
  },
  {
   "cell_type": "code",
   "execution_count": null,
   "metadata": {},
   "outputs": [],
   "source": []
  },
  {
   "cell_type": "code",
   "execution_count": null,
   "metadata": {},
   "outputs": [],
   "source": []
  },
  {
   "cell_type": "markdown",
   "metadata": {},
   "source": [
    "**Модуль календарь**"
   ]
  },
  {
   "cell_type": "code",
   "execution_count": 1,
   "metadata": {},
   "outputs": [
    {
     "name": "stdout",
     "output_type": "stream",
     "text": [
      "6\n"
     ]
    }
   ],
   "source": [
    "# Пример\n",
    "import calendar\n",
    "print(calendar.weekday(2021, 6, 6))"
   ]
  },
  {
   "cell_type": "markdown",
   "metadata": {},
   "source": [
    "**Задача** Напишите функцию, которая при вводе даты экзамена выводит название дня недели"
   ]
  },
  {
   "cell_type": "code",
   "execution_count": null,
   "metadata": {},
   "outputs": [],
   "source": []
  }
 ],
 "metadata": {
  "kernelspec": {
   "display_name": "Python 3 (ipykernel)",
   "language": "python",
   "name": "python3"
  },
  "language_info": {
   "codemirror_mode": {
    "name": "ipython",
    "version": 3
   },
   "file_extension": ".py",
   "mimetype": "text/x-python",
   "name": "python",
   "nbconvert_exporter": "python",
   "pygments_lexer": "ipython3",
   "version": "3.9.10"
  },
  "toc": {
   "base_numbering": 1,
   "nav_menu": {},
   "number_sections": false,
   "sideBar": false,
   "skip_h1_title": false,
   "title_cell": "Table of Contents",
   "title_sidebar": "Contents",
   "toc_cell": false,
   "toc_position": {},
   "toc_section_display": false,
   "toc_window_display": false
  }
 },
 "nbformat": 4,
 "nbformat_minor": 4
}
